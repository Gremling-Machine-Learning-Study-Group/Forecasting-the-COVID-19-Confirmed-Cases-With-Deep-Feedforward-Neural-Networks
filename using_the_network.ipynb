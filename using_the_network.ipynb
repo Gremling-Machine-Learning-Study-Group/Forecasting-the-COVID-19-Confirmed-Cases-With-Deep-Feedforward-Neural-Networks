{
  "nbformat": 4,
  "nbformat_minor": 0,
  "metadata": {
    "colab": {
      "name": "using_the_network.ipynb",
      "provenance": [],
      "collapsed_sections": [],
      "mount_file_id": "1gsVrILKOY99S5LpaPo_wbAOntARBJCdF",
      "authorship_tag": "ABX9TyPHSlgDSrnTb660lXBuWD5g"
    },
    "kernelspec": {
      "name": "python3",
      "display_name": "Python 3"
    }
  },
  "cells": [
    {
      "cell_type": "code",
      "metadata": {
        "id": "jT4DE0oCxc9i",
        "colab_type": "code",
        "outputId": "64d33c88-f873-48d0-e12e-ed34b068fd16",
        "colab": {
          "base_uri": "https://localhost:8080/",
          "height": 345
        }
      },
      "source": [
        "import numpy as np\n",
        "import tensorflow as tf\n",
        "import matplotlib.pyplot as plt\n",
        "\n",
        "#Creating our input tensor we want to forecast:\n",
        "data = np.array([81.0,82.0,83.0,84.0,85.0,86.0,87.0,88.0,89.0,90.0,91.0,92.0])\n",
        "\n",
        "#Import data\n",
        "dados_importar = np.genfromtxt(\"/content/drive/My Drive/Colab Notebooks/covid19_feedforwardNN/dataset_cases_21032020.txt\", delimiter=\" \", names=\"Day, Cases\")\n",
        "day = dados_importar['Day']\n",
        "cases = dados_importar['Cases']\n",
        "\n",
        "#Normalize imported data to use the network:\n",
        "mean = day.mean()\n",
        "day -= mean\n",
        "std = day.std()\n",
        "day /= std\n",
        "\n",
        "#Now, Normalize the generated tensor (I know this isnt the ideal...)\n",
        "data -= mean\n",
        "data /= std\n",
        "\n",
        "#Importing/Unsing the trained network:\n",
        "model = tf.keras.models.load_model('/content/drive/My Drive/Colab Notebooks/covid19_feedforwardNN/trained_network_100000_epochs')\n",
        "\n",
        "#Make predictions\n",
        "predictions_experimental = model.predict(day)\n",
        "predictions_forecast = model.predict(data)\n",
        "\n",
        "#Plot our main graph:\n",
        "plt.suptitle('Forecasting: Number of confirmed cases on Minas Gerais', fontsize=13)\n",
        "plt.ylabel('Confirmed cases on Minas Gerais')\n",
        "plt.xlabel('Day of the year')\n",
        "\n",
        "#Experimental data graph:\n",
        "plt.plot(day*std+mean, cases, 'kx')\n",
        "plt.plot(day*std+mean, predictions_experimental, 'b')\n",
        "\n",
        "#Forecast data graph:\n",
        "plt.plot(data*std+mean, predictions_forecast, 'rx')\n",
        "plt.plot(data*std+mean, predictions_forecast, 'r')\n",
        "\n",
        "plt.show()\n"
      ],
      "execution_count": 47,
      "outputs": [
        {
          "output_type": "stream",
          "text": [
            "WARNING:tensorflow:Error in loading the saved optimizer state. As a result, your model is starting with a freshly initialized optimizer.\n"
          ],
          "name": "stdout"
        },
        {
          "output_type": "display_data",
          "data": {
            "image/png": "[encoded data removed]",
            "text/plain": [
              "<Figure size 432x288 with 1 Axes>"
            ]
          },
          "metadata": {
            "tags": []
          }
        }
      ]
    },
    {
      "cell_type": "code",
      "metadata": {
        "id": "QXNbwCgYLNw8",
        "colab_type": "code",
        "colab": {
          "base_uri": "https://localhost:8080/",
          "height": 425
        },
        "outputId": "0f192a6c-d2a2-41db-f6fb-c6363b5bc3c6"
      },
      "source": [
        "for i in range(len(data)):\n",
        "\n",
        "    print('Day of the year: ', data[i]*std+mean, \" \", \"Forecasting of confirmed cases: \", predictions_forecast[i],\"\\n\")\n"
      ],
      "execution_count": 49,
      "outputs": [
        {
          "output_type": "stream",
          "text": [
            "Day of the year:  81.0   Forecasting of confirmed cases:  [55.459026] \n",
            "\n",
            "Day of the year:  82.0   Forecasting of confirmed cases:  [74.30464] \n",
            "\n",
            "Day of the year:  83.0   Forecasting of confirmed cases:  [94.14468] \n",
            "\n",
            "Day of the year:  84.0   Forecasting of confirmed cases:  [114.03029] \n",
            "\n",
            "Day of the year:  85.0   Forecasting of confirmed cases:  [133.91684] \n",
            "\n",
            "Day of the year:  86.0   Forecasting of confirmed cases:  [153.80338] \n",
            "\n",
            "Day of the year:  87.0   Forecasting of confirmed cases:  [173.70389] \n",
            "\n",
            "Day of the year:  88.0   Forecasting of confirmed cases:  [193.60515] \n",
            "\n",
            "Day of the year:  89.0   Forecasting of confirmed cases:  [213.50491] \n",
            "\n",
            "Day of the year:  90.0   Forecasting of confirmed cases:  [233.40076] \n",
            "\n",
            "Day of the year:  91.0   Forecasting of confirmed cases:  [253.28593] \n",
            "\n",
            "Day of the year:  92.0   Forecasting of confirmed cases:  [273.16483] \n",
            "\n"
          ],
          "name": "stdout"
        }
      ]
    }
  ]
}